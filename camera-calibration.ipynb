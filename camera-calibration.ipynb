{
 "cells": [
  {
   "cell_type": "code",
   "execution_count": 2,
   "metadata": {
    "collapsed": false
   },
   "outputs": [],
   "source": [
    "import numpy as np\n",
    "import cv2\n",
    "import matplotlib.pyplot as plt\n",
    "import matplotlib.image as mping\n",
    "# '%' used in Jupyter notebook from video\n",
    "#%matplotlib inline\n",
    "%matplotlib qt\n",
    "\n",
    "# use at least 20 images of skewed chessboard examples (aka photos taken at different angles and distances)\n",
    "# to reliably calibrate your camera\n",
    "# have a separate test image to test the calibration has worked correctly\n",
    "\n",
    "# Read in a calibration image\n",
    "img = mping.imread('./camera_cal/calibration1.jpg')\n",
    "#plt.imshow(img)\n",
    "\n",
    "# next, i'll map the coordinates of the corners in this 2D image (which i'll call image_points),\n",
    "# to the 3D coordinates of the real, undistorted chessboard corners (which i'll call object_points).\n",
    "\n",
    "\n",
    "# Arrays to store object points and image points from all the images\n",
    "\n",
    "objpoints = []  # 3D points in real world space\n",
    "imgpoints = []  # 2D points in image plane\n",
    "\n",
    "# Prepare object inner corner points, like (0,0,0), (1,0,0), (2,0,0) ..., (7,5,0)\n",
    "objp = np.zeros([6*8, 3], np.float32)  # note the [rows*cols, 3D] (where rows == y, cols == x) in the numpy array of lists initialisation\n",
    "\n",
    "# Create an x, y grid with coordinates\n",
    "objp[:, :2] = np.mgrid[0:8, 0:6].T.reshape(-1, 2)\n",
    "# print(objp)\n",
    "\n",
    "# Next, to create the image points, i want to look at\n",
    "# look at the distorted calibration image and\n",
    "# detect the corners of the board\n",
    "# in a grayscale image\n",
    "gray = cv2.cvtColor(img, cv2.COLOR_BGR2GRAY)\n",
    "\n",
    "# find the chessboard corners\n",
    "ret, corners = cv2.findChessboardCorners(gray, (8, 6), None)  # 'None' flags\n",
    "\n",
    "# if corners are found, add object points, image points\n",
    "if ret == True:\n",
    "    imgpoints.append(corners)\n",
    "    objpoints.append(objp)\n",
    "\n",
    "    # draw and display the corners\n",
    "    img = cv2.drawChessboardCorners(img, (8, 6), corners, ret)\n",
    "    plt.imshow(img)\n",
    "\n"
   ]
  },
  {
   "cell_type": "code",
   "execution_count": null,
   "metadata": {
    "collapsed": true
   },
   "outputs": [],
   "source": []
  }
 ],
 "metadata": {
  "kernelspec": {
   "display_name": "Python 3",
   "language": "python",
   "name": "python3"
  },
  "language_info": {
   "codemirror_mode": {
    "name": "ipython",
    "version": 3
   },
   "file_extension": ".py",
   "mimetype": "text/x-python",
   "name": "python",
   "nbconvert_exporter": "python",
   "pygments_lexer": "ipython3",
   "version": "3.5.2"
  },
  "widgets": {
   "state": {},
   "version": "1.1.2"
  }
 },
 "nbformat": 4,
 "nbformat_minor": 2
}
