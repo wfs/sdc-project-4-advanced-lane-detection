{
 "cells": [
  {
   "cell_type": "code",
   "execution_count": 2,
   "metadata": {
    "collapsed": false
   },
   "outputs": [
    {
     "data": {
      "image/png": "[encoded data removed]",
      "text/plain": [
       "<matplotlib.figure.Figure at 0x7ff41a49a668>"
      ]
     },
     "metadata": {},
     "output_type": "display_data"
    }
   ],
   "source": [
    "import numpy as np\n",
    "import matplotlib.pyplot as plt\n",
    "import matplotlib.image as mpimg\n",
    "import glob\n",
    "import cv2\n",
    "\n",
    "# used in Jupyter notebook from video\n",
    "%matplotlib inline\n",
    "# %matplotlib qt\n",
    "\n",
    "\"\"\"\n",
    "You're getting very close to a final result!\n",
    "\n",
    "You have a thresholded image, where\n",
    "you've estimated which pixels belong to the left and right lane lines\n",
    "(shown in red and blue, respectively, below), and\n",
    "you've fit a polynomial to those pixel positions.\n",
    "\n",
    "Next we'll compute the radius of curvature of the fit.\n",
    "\"\"\"\n",
    "\n",
    "\"\"\"\n",
    "In the last exercise, you located the lane line pixels,\n",
    "used their x and y pixel positions to fit a second order polynomial curve :\n",
    "f(y) = Ay**2 + By + C\n",
    "\n",
    "NOTE : you're fitting for f(y), rather than f(x), because\n",
    "the lane lines in the warped image are near vertical and\n",
    "may have the same x value for more than one y value.\n",
    "\"\"\"\n",
    "\n",
    "\"\"\"\n",
    "Radius of Curvature\n",
    "\n",
    "The y values of your image increase from top to bottom, so if, for example,\n",
    "you wanted to measure the radius of curvature closest to your vehicle,\n",
    "you could evaluate the formula above at the y value corresponding to the\n",
    "bottom of your image, or in Python, at yvalue = image.shape[0].\n",
    "\n",
    "Here's an example in code to demonstrate this:\n",
    "\"\"\"\n",
    "# Generate some fake data to represent lane-line pixels\n",
    "ploty = np.linspace(0, 719, num=720)  # to cover same y-range as image\n",
    "quadratic_coeff = 3e-4  # arbitrary quadratic coefficient\n",
    "# For each y position generate random x position within +/-50 pix\n",
    "# of the line base position in each case (x=200 for left, and x=900 for right)\n",
    "leftx = np.array([200 + (y**2)*quadratic_coeff + np.random.randint(-50, high=51)\n",
    "                              for y in ploty])\n",
    "rightx = np.array([900 + (y**2)*quadratic_coeff + np.random.randint(-50, high=51)\n",
    "                                for y in ploty])\n",
    "\n",
    "leftx = leftx[::-1]  # Reverse to match top-to-bottom in y\n",
    "rightx = rightx[::-1]  # Reverse to match top-to-bottom in y\n",
    "\n",
    "\n",
    "# Fit a second order polynomial to pixel positions in each fake lane line\n",
    "left_fit = np.polyfit(ploty, leftx, 2)\n",
    "left_fitx = left_fit[0]*ploty**2 + left_fit[1]*ploty + left_fit[2]\n",
    "right_fit = np.polyfit(ploty, rightx, 2)\n",
    "right_fitx = right_fit[0]*ploty**2 + right_fit[1]*ploty + right_fit[2]\n",
    "\n",
    "# Plot up the fake data\n",
    "mark_size = 3\n",
    "plt.plot(leftx, ploty, 'o', color='red', markersize=mark_size)\n",
    "plt.plot(rightx, ploty, 'o', color='blue', markersize=mark_size)\n",
    "plt.xlim(0, 1280)\n",
    "plt.ylim(0, 720)\n",
    "plt.plot(left_fitx, ploty, color='green', linewidth=3)\n",
    "plt.plot(right_fitx, ploty, color='green', linewidth=3)\n",
    "plt.gca().invert_yaxis()  # to visualize as we do the images\n"
   ]
  },
  {
   "cell_type": "code",
   "execution_count": 3,
   "metadata": {
    "collapsed": false
   },
   "outputs": [
    {
     "name": "stdout",
     "output_type": "stream",
     "text": [
      "1635.80112028 1980.43528777\n"
     ]
    }
   ],
   "source": [
    "\"\"\"\n",
    "Now we have polynomial fits and we can calculate the radius of curvature as follows:\n",
    "\"\"\"\n",
    "# Define y-value where we want radius of curvature\n",
    "# I'll choose the maximum y-value, corresponding to the bottom of the image\n",
    "y_eval = np.max(ploty)\n",
    "left_curverad = ((1 + (2*left_fit[0]*y_eval + left_fit[1])**2)**1.5) / np.absolute(2*left_fit[0])\n",
    "right_curverad = ((1 + (2*right_fit[0]*y_eval + right_fit[1])**2)**1.5) / np.absolute(2*right_fit[0])\n",
    "print(left_curverad, right_curverad)\n",
    "# Example values: 1926.74 1908.48"
   ]
  },
  {
   "cell_type": "code",
   "execution_count": 4,
   "metadata": {
    "collapsed": false
   },
   "outputs": [
    {
     "name": "stdout",
     "output_type": "stream",
     "text": [
      "537.27172886 m 649.361976846 m\n"
     ]
    }
   ],
   "source": [
    "\"\"\"\n",
    "But now we need to stop and think...\n",
    "We've calculated the radius of curvature based on pixel values, so\n",
    "the radius we are reporting is in pixel space,\n",
    "which is not the same as real world space.\n",
    "\n",
    "So we actually need to repeat this calculation after converting our x and y values to real world space.\n",
    "\n",
    "This involves measuring how long and wide the section of lane is that we're projecting in our warped image.\n",
    "\n",
    "We could do this in detail by measuring out the physical lane in the field of view of the camera, but\n",
    "for this project, you can assume that if you're projecting a section of lane similar to the images above,\n",
    "the lane is about 30 meters long and 3.7 meters wide.\n",
    "\n",
    "Or, if you prefer to derive a conversion from pixel space to world space in your own images,\n",
    "compare your images with U.S. regulations that require a minimum lane width of 12 feet or 3.7 meters, and\n",
    "the dashed lane lines are 10 feet or 3 meters long each.\n",
    "\n",
    "So here's a way to repeat the calculation of radius of curvature after correcting for scale in x and y:\n",
    "\"\"\"\n",
    "# Define conversions in x and y from pixels space to meters\n",
    "ym_per_pix = 30/720 # meters per pixel in y dimension\n",
    "xm_per_pix = 3.7/700 # meters per pixel in x dimension\n",
    "\n",
    "# Fit new polynomials to x,y in world space\n",
    "left_fit_cr = np.polyfit(ploty*ym_per_pix, leftx*xm_per_pix, 2)\n",
    "right_fit_cr = np.polyfit(ploty*ym_per_pix, rightx*xm_per_pix, 2)\n",
    "# Calculate the new radii of curvature\n",
    "left_curverad = ((1 + (2*left_fit_cr[0]*y_eval*ym_per_pix + left_fit_cr[1])**2)**1.5) / np.absolute(2*left_fit_cr[0])\n",
    "right_curverad = ((1 + (2*right_fit_cr[0]*y_eval*ym_per_pix + right_fit_cr[1])**2)**1.5) / np.absolute(2*right_fit_cr[0])\n",
    "# Now our radius of curvature is in meters\n",
    "print(left_curverad, 'm', right_curverad, 'm')\n",
    "# Example values: 632.1 m    626.2 m"
   ]
  },
  {
   "cell_type": "code",
   "execution_count": null,
   "metadata": {
    "collapsed": true
   },
   "outputs": [],
   "source": []
  }
 ],
 "metadata": {
  "kernelspec": {
   "display_name": "Python 3",
   "language": "python",
   "name": "python3"
  },
  "language_info": {
   "codemirror_mode": {
    "name": "ipython",
    "version": 3
   },
   "file_extension": ".py",
   "mimetype": "text/x-python",
   "name": "python",
   "nbconvert_exporter": "python",
   "pygments_lexer": "ipython3",
   "version": "3.5.2"
  },
  "widgets": {
   "state": {},
   "version": "1.1.2"
  }
 },
 "nbformat": 4,
 "nbformat_minor": 2
}
